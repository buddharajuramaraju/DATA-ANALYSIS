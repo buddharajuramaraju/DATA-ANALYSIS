{
  "nbformat": 4,
  "nbformat_minor": 0,
  "metadata": {
    "colab": {
      "name": "NumPy.ipynb",
      "version": "0.3.2",
      "provenance": []
    },
    "kernelspec": {
      "name": "python3",
      "display_name": "Python 3"
    }
  },
  "cells": [
    {
      "cell_type": "markdown",
      "metadata": {
        "id": "view-in-github",
        "colab_type": "text"
      },
      "source": [
        "[View in Colaboratory](https://colab.research.google.com/github/buddharajuramaraju/DATA-ANALYSIS/blob/master/NumPy.ipynb)"
      ]
    },
    {
      "metadata": {
        "id": "dKRAha-X9KEu",
        "colab_type": "text"
      },
      "cell_type": "markdown",
      "source": [
        "# NumPy"
      ]
    },
    {
      "metadata": {
        "id": "lxFS8NhF9N1M",
        "colab_type": "text"
      },
      "cell_type": "markdown",
      "source": [
        "## Introduction"
      ]
    },
    {
      "metadata": {
        "id": "srg77yOj9Sx2",
        "colab_type": "text"
      },
      "cell_type": "markdown",
      "source": [
        "\n",
        "\n",
        "1.   NumPy's main object is the homogeneous multidimensional array\n",
        "2. It is a table of elements (usually numbers), all of the same type,indexed by a tuple of positive integers\n",
        "3. In NumPy dimensions are called axes\n",
        "\n"
      ]
    },
    {
      "metadata": {
        "id": "ZkePtDKQ-NIw",
        "colab_type": "text"
      },
      "cell_type": "markdown",
      "source": [
        "## Example"
      ]
    },
    {
      "metadata": {
        "id": "yQYPsalX9NIg",
        "colab_type": "code",
        "colab": {
          "base_uri": "https://localhost:8080/",
          "height": 73
        },
        "outputId": "70eed68c-4c19-428e-9849-9abcf15245e3"
      },
      "cell_type": "code",
      "source": [
        "import numpy as np\n",
        "a=np.arange(15).reshape(3,5)\n",
        "a"
      ],
      "execution_count": 3,
      "outputs": [
        {
          "output_type": "execute_result",
          "data": {
            "text/plain": [
              "array([[ 0,  1,  2,  3,  4],\n",
              "       [ 5,  6,  7,  8,  9],\n",
              "       [10, 11, 12, 13, 14]])"
            ]
          },
          "metadata": {
            "tags": []
          },
          "execution_count": 3
        }
      ]
    },
    {
      "metadata": {
        "id": "GDCC9X21-uD6",
        "colab_type": "text"
      },
      "cell_type": "markdown",
      "source": [
        "### ndarray.ndim\n",
        "The number of axes(dimensions) of the array"
      ]
    },
    {
      "metadata": {
        "id": "cctQFbHr-TIG",
        "colab_type": "code",
        "colab": {
          "base_uri": "https://localhost:8080/",
          "height": 36
        },
        "outputId": "16c18e48-ce90-4f87-dd85-5eff583a06d9"
      },
      "cell_type": "code",
      "source": [
        "a.ndim"
      ],
      "execution_count": 4,
      "outputs": [
        {
          "output_type": "execute_result",
          "data": {
            "text/plain": [
              "2"
            ]
          },
          "metadata": {
            "tags": []
          },
          "execution_count": 4
        }
      ]
    },
    {
      "metadata": {
        "id": "W6lpaUg9_XNq",
        "colab_type": "text"
      },
      "cell_type": "markdown",
      "source": [
        "### ndarray.shape\n",
        "This is a tuple of integers indecating the size of array in each dimension"
      ]
    },
    {
      "metadata": {
        "id": "ghaWLSqV_CcQ",
        "colab_type": "code",
        "colab": {
          "base_uri": "https://localhost:8080/",
          "height": 36
        },
        "outputId": "909d0d49-25b2-4770-8050-c05cd3ee5917"
      },
      "cell_type": "code",
      "source": [
        "a.shape"
      ],
      "execution_count": 6,
      "outputs": [
        {
          "output_type": "execute_result",
          "data": {
            "text/plain": [
              "(3, 5)"
            ]
          },
          "metadata": {
            "tags": []
          },
          "execution_count": 6
        }
      ]
    },
    {
      "metadata": {
        "id": "kA4MGUUr_t1a",
        "colab_type": "text"
      },
      "cell_type": "markdown",
      "source": [
        "### ndarray.size\n",
        "The total number of elements of the array, it is equal to the product of the elements of the shape"
      ]
    },
    {
      "metadata": {
        "id": "dtqPOcTS_quC",
        "colab_type": "code",
        "colab": {
          "base_uri": "https://localhost:8080/",
          "height": 36
        },
        "outputId": "67e8c47e-aad7-4db7-9045-4ab28036d9ae"
      },
      "cell_type": "code",
      "source": [
        "a.size"
      ],
      "execution_count": 7,
      "outputs": [
        {
          "output_type": "execute_result",
          "data": {
            "text/plain": [
              "15"
            ]
          },
          "metadata": {
            "tags": []
          },
          "execution_count": 7
        }
      ]
    },
    {
      "metadata": {
        "id": "Vmov1TPJAjVQ",
        "colab_type": "text"
      },
      "cell_type": "markdown",
      "source": [
        "### ndarray.dtype\n",
        "an object describing the type of elements of array, one can create or specify dtype's using standard python types. Aditionally numpy provides types of it's own"
      ]
    },
    {
      "metadata": {
        "id": "-Xj-vH8tAJeU",
        "colab_type": "code",
        "colab": {
          "base_uri": "https://localhost:8080/",
          "height": 36
        },
        "outputId": "09c6646b-6d2b-4cb7-85ce-7693082e20ed"
      },
      "cell_type": "code",
      "source": [
        "a.dtype"
      ],
      "execution_count": 8,
      "outputs": [
        {
          "output_type": "execute_result",
          "data": {
            "text/plain": [
              "dtype('int64')"
            ]
          },
          "metadata": {
            "tags": []
          },
          "execution_count": 8
        }
      ]
    },
    {
      "metadata": {
        "id": "2KdhGiyFBTu8",
        "colab_type": "text"
      },
      "cell_type": "markdown",
      "source": [
        "### ndarray.itemsize\n",
        "The size in bytes of each elements of array"
      ]
    },
    {
      "metadata": {
        "id": "TEeZsUASBITe",
        "colab_type": "code",
        "colab": {
          "base_uri": "https://localhost:8080/",
          "height": 36
        },
        "outputId": "2b09a452-e686-425c-dfc2-52cf42b5bee0"
      },
      "cell_type": "code",
      "source": [
        "a.itemsize"
      ],
      "execution_count": 9,
      "outputs": [
        {
          "output_type": "execute_result",
          "data": {
            "text/plain": [
              "8"
            ]
          },
          "metadata": {
            "tags": []
          },
          "execution_count": 9
        }
      ]
    },
    {
      "metadata": {
        "id": "4ZoF8wV0Bpio",
        "colab_type": "text"
      },
      "cell_type": "markdown",
      "source": [
        "### ndarray.data\n",
        "The buffer containing the actual elements of the array\n"
      ]
    },
    {
      "metadata": {
        "id": "Rt_2XGGiBh3G",
        "colab_type": "code",
        "colab": {
          "base_uri": "https://localhost:8080/",
          "height": 36
        },
        "outputId": "9bb63c2f-0390-40ff-847e-048534ab0d5b"
      },
      "cell_type": "code",
      "source": [
        "a.data"
      ],
      "execution_count": 12,
      "outputs": [
        {
          "output_type": "execute_result",
          "data": {
            "text/plain": [
              "<memory at 0x7f41b319ec18>"
            ]
          },
          "metadata": {
            "tags": []
          },
          "execution_count": 12
        }
      ]
    },
    {
      "metadata": {
        "id": "BZfRcibyCbIm",
        "colab_type": "text"
      },
      "cell_type": "markdown",
      "source": [
        "### type\n",
        "Standard python function returns type of object"
      ]
    },
    {
      "metadata": {
        "id": "D49xUl0ACH1-",
        "colab_type": "code",
        "colab": {
          "base_uri": "https://localhost:8080/",
          "height": 36
        },
        "outputId": "0f35f2bb-6486-428c-8569-67baf47d47f6"
      },
      "cell_type": "code",
      "source": [
        "type(a)"
      ],
      "execution_count": 13,
      "outputs": [
        {
          "output_type": "execute_result",
          "data": {
            "text/plain": [
              "numpy.ndarray"
            ]
          },
          "metadata": {
            "tags": []
          },
          "execution_count": 13
        }
      ]
    },
    {
      "metadata": {
        "id": "ei77F-BQCq8I",
        "colab_type": "text"
      },
      "cell_type": "markdown",
      "source": [
        "## NumPy Array Creation"
      ]
    },
    {
      "metadata": {
        "id": "4MlkUI4WC4mS",
        "colab_type": "text"
      },
      "cell_type": "markdown",
      "source": [
        "There are several waays to create arrays"
      ]
    },
    {
      "metadata": {
        "id": "aSGWn4fkDGDe",
        "colab_type": "text"
      },
      "cell_type": "markdown",
      "source": [
        "### From a regural Python List or Tuple"
      ]
    },
    {
      "metadata": {
        "id": "zeEiufjnCdqg",
        "colab_type": "code",
        "colab": {
          "base_uri": "https://localhost:8080/",
          "height": 36
        },
        "outputId": "aa01c496-434a-4dc5-e9be-2043dcc8289f"
      },
      "cell_type": "code",
      "source": [
        "a = np.array([1,2,3])\n",
        "a.dtype"
      ],
      "execution_count": 15,
      "outputs": [
        {
          "output_type": "execute_result",
          "data": {
            "text/plain": [
              "dtype('int64')"
            ]
          },
          "metadata": {
            "tags": []
          },
          "execution_count": 15
        }
      ]
    },
    {
      "metadata": {
        "id": "KRGoFrJnDXeI",
        "colab_type": "code",
        "colab": {
          "base_uri": "https://localhost:8080/",
          "height": 36
        },
        "outputId": "b3d80dca-4ee8-4711-b9c5-b463a567ca8a"
      },
      "cell_type": "code",
      "source": [
        "b= np.array((1.0,2.34,5.6))\n",
        "b.dtype"
      ],
      "execution_count": 18,
      "outputs": [
        {
          "output_type": "execute_result",
          "data": {
            "text/plain": [
              "dtype('float64')"
            ]
          },
          "metadata": {
            "tags": []
          },
          "execution_count": 18
        }
      ]
    },
    {
      "metadata": {
        "id": "jvbf3XQUDh28",
        "colab_type": "code",
        "colab": {
          "base_uri": "https://localhost:8080/",
          "height": 36
        },
        "outputId": "e426ca4d-470b-41c7-d5a6-da8c76844936"
      },
      "cell_type": "code",
      "source": [
        "c= np.array([1,2,3,4],dtype=np.complex)\n",
        "c"
      ],
      "execution_count": 20,
      "outputs": [
        {
          "output_type": "execute_result",
          "data": {
            "text/plain": [
              "array([1.+0.j, 2.+0.j, 3.+0.j, 4.+0.j])"
            ]
          },
          "metadata": {
            "tags": []
          },
          "execution_count": 20
        }
      ]
    },
    {
      "metadata": {
        "id": "D1ysjV5MFJdk",
        "colab_type": "code",
        "colab": {
          "base_uri": "https://localhost:8080/",
          "height": 73
        },
        "outputId": "45250142-0500-4482-8403-ab2e848fb9a6"
      },
      "cell_type": "code",
      "source": [
        "a = np.zeros((3,4))\n",
        "a"
      ],
      "execution_count": 21,
      "outputs": [
        {
          "output_type": "execute_result",
          "data": {
            "text/plain": [
              "array([[0., 0., 0., 0.],\n",
              "       [0., 0., 0., 0.],\n",
              "       [0., 0., 0., 0.]])"
            ]
          },
          "metadata": {
            "tags": []
          },
          "execution_count": 21
        }
      ]
    },
    {
      "metadata": {
        "id": "tA1o25zfGq3K",
        "colab_type": "code",
        "colab": {
          "base_uri": "https://localhost:8080/",
          "height": 73
        },
        "outputId": "b17ec5e3-0422-478d-9213-58f263bd92ed"
      },
      "cell_type": "code",
      "source": [
        "a = np.ones((3,4))\n",
        "a"
      ],
      "execution_count": 22,
      "outputs": [
        {
          "output_type": "execute_result",
          "data": {
            "text/plain": [
              "array([[1., 1., 1., 1.],\n",
              "       [1., 1., 1., 1.],\n",
              "       [1., 1., 1., 1.]])"
            ]
          },
          "metadata": {
            "tags": []
          },
          "execution_count": 22
        }
      ]
    },
    {
      "metadata": {
        "id": "ACPPQWswGvC4",
        "colab_type": "code",
        "colab": {
          "base_uri": "https://localhost:8080/",
          "height": 73
        },
        "outputId": "4a128ad6-571a-41cf-f41b-5fa7e821ab90"
      },
      "cell_type": "code",
      "source": [
        "a = np.empty((3,4))\n",
        "a"
      ],
      "execution_count": 24,
      "outputs": [
        {
          "output_type": "execute_result",
          "data": {
            "text/plain": [
              "array([[1., 1., 1., 1.],\n",
              "       [1., 1., 1., 1.],\n",
              "       [1., 1., 1., 1.]])"
            ]
          },
          "metadata": {
            "tags": []
          },
          "execution_count": 24
        }
      ]
    },
    {
      "metadata": {
        "id": "eIeQ-tPaG1FQ",
        "colab_type": "code",
        "colab": {
          "base_uri": "https://localhost:8080/",
          "height": 36
        },
        "outputId": "fdb0b059-0b5d-4449-b36d-7269ca45e15f"
      },
      "cell_type": "code",
      "source": [
        "a = np.arange(0,10,2)\n",
        "a"
      ],
      "execution_count": 28,
      "outputs": [
        {
          "output_type": "execute_result",
          "data": {
            "text/plain": [
              "array([0, 2, 4, 6, 8])"
            ]
          },
          "metadata": {
            "tags": []
          },
          "execution_count": 28
        }
      ]
    },
    {
      "metadata": {
        "id": "FCMgH3b6HcTS",
        "colab_type": "code",
        "colab": {
          "base_uri": "https://localhost:8080/",
          "height": 54
        },
        "outputId": "5820ef6e-0762-4761-9ac9-2c9ebbba4321"
      },
      "cell_type": "code",
      "source": [
        "a = np.arange(0,3,0.2)\n",
        "a"
      ],
      "execution_count": 30,
      "outputs": [
        {
          "output_type": "execute_result",
          "data": {
            "text/plain": [
              "array([0. , 0.2, 0.4, 0.6, 0.8, 1. , 1.2, 1.4, 1.6, 1.8, 2. , 2.2, 2.4,\n",
              "       2.6, 2.8])"
            ]
          },
          "metadata": {
            "tags": []
          },
          "execution_count": 30
        }
      ]
    },
    {
      "metadata": {
        "id": "r39lE15MHopC",
        "colab_type": "code",
        "colab": {
          "base_uri": "https://localhost:8080/",
          "height": 54
        },
        "outputId": "249405cb-4da6-48f0-8e8d-e9448acde3c2"
      },
      "cell_type": "code",
      "source": [
        "a=np.linspace(0,3,10)\n",
        "a"
      ],
      "execution_count": 33,
      "outputs": [
        {
          "output_type": "execute_result",
          "data": {
            "text/plain": [
              "array([0.        , 0.33333333, 0.66666667, 1.        , 1.33333333,\n",
              "       1.66666667, 2.        , 2.33333333, 2.66666667, 3.        ])"
            ]
          },
          "metadata": {
            "tags": []
          },
          "execution_count": 33
        }
      ]
    },
    {
      "metadata": {
        "id": "sjylg59BIBFa",
        "colab_type": "code",
        "colab": {
          "base_uri": "https://localhost:8080/",
          "height": 54
        },
        "outputId": "7d31bfb2-6dc3-4a73-b89b-2912ae2affad"
      },
      "cell_type": "code",
      "source": [
        "np.sin(a)"
      ],
      "execution_count": 35,
      "outputs": [
        {
          "output_type": "execute_result",
          "data": {
            "text/plain": [
              "array([0.        , 0.3271947 , 0.6183698 , 0.84147098, 0.9719379 ,\n",
              "       0.99540796, 0.90929743, 0.72308588, 0.45727263, 0.14112001])"
            ]
          },
          "metadata": {
            "tags": []
          },
          "execution_count": 35
        }
      ]
    },
    {
      "metadata": {
        "id": "2pU3PB4tIRVw",
        "colab_type": "code",
        "colab": {}
      },
      "cell_type": "code",
      "source": [
        ""
      ],
      "execution_count": 0,
      "outputs": []
    }
  ]
}