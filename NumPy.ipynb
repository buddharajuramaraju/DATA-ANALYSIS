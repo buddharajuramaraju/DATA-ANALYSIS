{
  "nbformat": 4,
  "nbformat_minor": 0,
  "metadata": {
    "colab": {
      "name": "NumPy.ipynb",
      "version": "0.3.2",
      "provenance": []
    },
    "kernelspec": {
      "name": "python3",
      "display_name": "Python 3"
    }
  },
  "cells": [
    {
      "cell_type": "markdown",
      "metadata": {
        "id": "view-in-github",
        "colab_type": "text"
      },
      "source": [
        "[View in Colaboratory](https://colab.research.google.com/github/buddharajuramaraju/DATA-ANALYSIS/blob/master/NumPy.ipynb)"
      ]
    },
    {
      "metadata": {
        "id": "dKRAha-X9KEu",
        "colab_type": "text"
      },
      "cell_type": "markdown",
      "source": [
        "# NumPy"
      ]
    },
    {
      "metadata": {
        "id": "lxFS8NhF9N1M",
        "colab_type": "text"
      },
      "cell_type": "markdown",
      "source": [
        "## Introduction"
      ]
    },
    {
      "metadata": {
        "id": "srg77yOj9Sx2",
        "colab_type": "text"
      },
      "cell_type": "markdown",
      "source": [
        "\n",
        "\n",
        "1.   NumPy's main object is the homogeneous multidimensional array\n",
        "2. It is a table of elements (usually numbers), all of the same type,indexed by a tuple of positive integers\n",
        "3. In NumPy dimensions are called axes\n",
        "\n"
      ]
    },
    {
      "metadata": {
        "id": "yQYPsalX9NIg",
        "colab_type": "code",
        "colab": {}
      },
      "cell_type": "code",
      "source": [
        ""
      ],
      "execution_count": 0,
      "outputs": []
    }
  ]
}